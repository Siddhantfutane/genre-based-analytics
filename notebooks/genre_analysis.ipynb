{
 "cells": [
  {
   "cell_type": "code",
   "execution_count": 0,
   "metadata": {
    "application/vnd.databricks.v1+cell": {
     "cellMetadata": {
      "byteLimit": 2048000,
      "rowLimit": 10000
     },
     "inputWidgets": {},
     "nuid": "621aa360-704c-41c4-a39e-ca478c1c39ac",
     "showTitle": false,
     "tableResultSettingsMap": {},
     "title": ""
    }
   },
   "outputs": [
    {
     "output_type": "display_data",
     "data": {
      "text/html": [
       "<style scoped>\n",
       "  .table-result-container {\n",
       "    max-height: 300px;\n",
       "    overflow: auto;\n",
       "  }\n",
       "  table, th, td {\n",
       "    border: 1px solid black;\n",
       "    border-collapse: collapse;\n",
       "  }\n",
       "  th, td {\n",
       "    padding: 5px;\n",
       "  }\n",
       "  th {\n",
       "    text-align: left;\n",
       "  }\n",
       "</style><div class='table-result-container'><table class='table-result'><thead style='background-color: white'><tr><th>movieId</th><th>title</th><th>genres</th></tr></thead><tbody><tr><td>1</td><td>Toy Story (1995)</td><td>Adventure|Animation|Children|Comedy|Fantasy</td></tr><tr><td>2</td><td>Jumanji (1995)</td><td>Adventure|Children|Fantasy</td></tr><tr><td>3</td><td>Grumpier Old Men (1995)</td><td>Comedy|Romance</td></tr><tr><td>4</td><td>Waiting to Exhale (1995)</td><td>Comedy|Drama|Romance</td></tr><tr><td>5</td><td>Father of the Bride Part II (1995)</td><td>Comedy</td></tr></tbody></table></div>"
      ]
     },
     "metadata": {
      "application/vnd.databricks.v1+output": {
       "addedWidgets": {},
       "aggData": [],
       "aggError": "",
       "aggOverflow": false,
       "aggSchema": [],
       "aggSeriesLimitReached": false,
       "aggType": "",
       "arguments": {},
       "columnCustomDisplayInfos": {},
       "data": [
        [
         1,
         "Toy Story (1995)",
         "Adventure|Animation|Children|Comedy|Fantasy"
        ],
        [
         2,
         "Jumanji (1995)",
         "Adventure|Children|Fantasy"
        ],
        [
         3,
         "Grumpier Old Men (1995)",
         "Comedy|Romance"
        ],
        [
         4,
         "Waiting to Exhale (1995)",
         "Comedy|Drama|Romance"
        ],
        [
         5,
         "Father of the Bride Part II (1995)",
         "Comedy"
        ]
       ],
       "datasetInfos": [],
       "dbfsResultPath": null,
       "isJsonSchema": true,
       "metadata": {},
       "overflow": false,
       "plotOptions": {
        "customPlotOptions": {},
        "displayType": "table",
        "pivotAggregation": null,
        "pivotColumns": null,
        "xColumns": null,
        "yColumns": null
       },
       "removedWidgets": [],
       "schema": [
        {
         "metadata": "{}",
         "name": "movieId",
         "type": "\"integer\""
        },
        {
         "metadata": "{}",
         "name": "title",
         "type": "\"string\""
        },
        {
         "metadata": "{}",
         "name": "genres",
         "type": "\"string\""
        }
       ],
       "type": "table"
      }
     },
     "output_type": "display_data"
    }
   ],
   "source": [
    "from pyspark.sql.functions import split, col\n",
    "\n",
    "# Read CSV\n",
    "df = spark.read.csv(\"/Volumes/workspace/default/ordder/movies.csv\", header=True, inferSchema=True)\n",
    "display(df.limit(5))"
   ]
  },
  {
   "cell_type": "code",
   "execution_count": 0,
   "metadata": {
    "application/vnd.databricks.v1+cell": {
     "cellMetadata": {
      "byteLimit": 2048000,
      "rowLimit": 10000
     },
     "inputWidgets": {},
     "nuid": "54849242-6d64-4991-84cf-b43dca6b15fe",
     "showTitle": false,
     "tableResultSettingsMap": {},
     "title": ""
    }
   },
   "outputs": [
    {
     "output_type": "stream",
     "name": "stderr",
     "output_type": "stream",
     "text": [
      "<>:3: SyntaxWarning: invalid escape sequence '\\|'\n<>:3: SyntaxWarning: invalid escape sequence '\\|'\n/home/spark-4d3c130f-dc13-435b-b3cf-e6/.ipykernel/2695/command-6718169376915788-2680938530:3: SyntaxWarning: invalid escape sequence '\\|'\n  df_split = df.withColumn(\"GenresArray\", split(col(\"genres\"), \"\\|\"))\n<unknown>:3: SyntaxWarning: invalid escape sequence '\\|'\n<unknown>:3: SyntaxWarning: invalid escape sequence '\\|'\n<unknown>:3: SyntaxWarning: invalid escape sequence '\\|'\n"
     ]
    },
    {
     "output_type": "display_data",
     "data": {
      "text/html": [
       "<style scoped>\n",
       "  .table-result-container {\n",
       "    max-height: 300px;\n",
       "    overflow: auto;\n",
       "  }\n",
       "  table, th, td {\n",
       "    border: 1px solid black;\n",
       "    border-collapse: collapse;\n",
       "  }\n",
       "  th, td {\n",
       "    padding: 5px;\n",
       "  }\n",
       "  th {\n",
       "    text-align: left;\n",
       "  }\n",
       "</style><div class='table-result-container'><table class='table-result'><thead style='background-color: white'><tr><th>movieId</th><th>title</th><th>genres</th><th>GenresArray</th></tr></thead><tbody><tr><td>1</td><td>Toy Story (1995)</td><td>Adventure|Animation|Children|Comedy|Fantasy</td><td>List(Adventure, Animation, Children, Comedy, Fantasy)</td></tr><tr><td>2</td><td>Jumanji (1995)</td><td>Adventure|Children|Fantasy</td><td>List(Adventure, Children, Fantasy)</td></tr><tr><td>3</td><td>Grumpier Old Men (1995)</td><td>Comedy|Romance</td><td>List(Comedy, Romance)</td></tr><tr><td>4</td><td>Waiting to Exhale (1995)</td><td>Comedy|Drama|Romance</td><td>List(Comedy, Drama, Romance)</td></tr><tr><td>5</td><td>Father of the Bride Part II (1995)</td><td>Comedy</td><td>List(Comedy)</td></tr></tbody></table></div>"
      ]
     },
     "metadata": {
      "application/vnd.databricks.v1+output": {
       "addedWidgets": {},
       "aggData": [],
       "aggError": "",
       "aggOverflow": false,
       "aggSchema": [],
       "aggSeriesLimitReached": false,
       "aggType": "",
       "arguments": {},
       "columnCustomDisplayInfos": {},
       "data": [
        [
         1,
         "Toy Story (1995)",
         "Adventure|Animation|Children|Comedy|Fantasy",
         [
          "Adventure",
          "Animation",
          "Children",
          "Comedy",
          "Fantasy"
         ]
        ],
        [
         2,
         "Jumanji (1995)",
         "Adventure|Children|Fantasy",
         [
          "Adventure",
          "Children",
          "Fantasy"
         ]
        ],
        [
         3,
         "Grumpier Old Men (1995)",
         "Comedy|Romance",
         [
          "Comedy",
          "Romance"
         ]
        ],
        [
         4,
         "Waiting to Exhale (1995)",
         "Comedy|Drama|Romance",
         [
          "Comedy",
          "Drama",
          "Romance"
         ]
        ],
        [
         5,
         "Father of the Bride Part II (1995)",
         "Comedy",
         [
          "Comedy"
         ]
        ]
       ],
       "datasetInfos": [],
       "dbfsResultPath": null,
       "isJsonSchema": true,
       "metadata": {},
       "overflow": false,
       "plotOptions": {
        "customPlotOptions": {},
        "displayType": "table",
        "pivotAggregation": null,
        "pivotColumns": null,
        "xColumns": null,
        "yColumns": null
       },
       "removedWidgets": [],
       "schema": [
        {
         "metadata": "{}",
         "name": "movieId",
         "type": "\"integer\""
        },
        {
         "metadata": "{}",
         "name": "title",
         "type": "\"string\""
        },
        {
         "metadata": "{}",
         "name": "genres",
         "type": "\"string\""
        },
        {
         "metadata": "{}",
         "name": "GenresArray",
         "type": "{\"containsNull\":false,\"elementType\":\"string\",\"type\":\"array\"}"
        }
       ],
       "type": "table"
      }
     },
     "output_type": "display_data"
    },
    {
     "output_type": "stream",
     "name": "stderr",
     "output_type": "stream",
     "text": [
      "<unknown>:3: SyntaxWarning: invalid escape sequence '\\|'\n"
     ]
    }
   ],
   "source": [
    "from pyspark.sql.functions import split, col\n",
    "\n",
    "df_split = df.withColumn(\"GenresArray\", split(col(\"genres\"), \"\\|\"))\n",
    "display(df_split.limit(5))"
   ]
  },
  {
   "cell_type": "code",
   "execution_count": 0,
   "metadata": {
    "application/vnd.databricks.v1+cell": {
     "cellMetadata": {
      "byteLimit": 2048000,
      "rowLimit": 10000
     },
     "inputWidgets": {},
     "nuid": "0e9cf304-1db7-45b9-8c1e-0aaa9ea855d0",
     "showTitle": false,
     "tableResultSettingsMap": {},
     "title": ""
    }
   },
   "outputs": [
    {
     "output_type": "stream",
     "name": "stderr",
     "output_type": "stream",
     "text": [
      "<>:3: SyntaxWarning: invalid escape sequence '\\|'\n<>:3: SyntaxWarning: invalid escape sequence '\\|'\n/home/spark-4d3c130f-dc13-435b-b3cf-e6/.ipykernel/2695/command-6718169376915789-443939268:3: SyntaxWarning: invalid escape sequence '\\|'\n  df_exploded = df.withColumn(\"Genre\", explode(split(col(\"genres\"), \"\\|\")))\n<unknown>:3: SyntaxWarning: invalid escape sequence '\\|'\n"
     ]
    },
    {
     "output_type": "display_data",
     "data": {
      "text/html": [
       "<style scoped>\n",
       "  .table-result-container {\n",
       "    max-height: 300px;\n",
       "    overflow: auto;\n",
       "  }\n",
       "  table, th, td {\n",
       "    border: 1px solid black;\n",
       "    border-collapse: collapse;\n",
       "  }\n",
       "  th, td {\n",
       "    padding: 5px;\n",
       "  }\n",
       "  th {\n",
       "    text-align: left;\n",
       "  }\n",
       "</style><div class='table-result-container'><table class='table-result'><thead style='background-color: white'><tr><th>movieId</th><th>title</th><th>genres</th><th>Genre</th></tr></thead><tbody><tr><td>1</td><td>Toy Story (1995)</td><td>Adventure|Animation|Children|Comedy|Fantasy</td><td>Adventure</td></tr><tr><td>1</td><td>Toy Story (1995)</td><td>Adventure|Animation|Children|Comedy|Fantasy</td><td>Animation</td></tr><tr><td>1</td><td>Toy Story (1995)</td><td>Adventure|Animation|Children|Comedy|Fantasy</td><td>Children</td></tr><tr><td>1</td><td>Toy Story (1995)</td><td>Adventure|Animation|Children|Comedy|Fantasy</td><td>Comedy</td></tr><tr><td>1</td><td>Toy Story (1995)</td><td>Adventure|Animation|Children|Comedy|Fantasy</td><td>Fantasy</td></tr><tr><td>2</td><td>Jumanji (1995)</td><td>Adventure|Children|Fantasy</td><td>Adventure</td></tr><tr><td>2</td><td>Jumanji (1995)</td><td>Adventure|Children|Fantasy</td><td>Children</td></tr><tr><td>2</td><td>Jumanji (1995)</td><td>Adventure|Children|Fantasy</td><td>Fantasy</td></tr><tr><td>3</td><td>Grumpier Old Men (1995)</td><td>Comedy|Romance</td><td>Comedy</td></tr><tr><td>3</td><td>Grumpier Old Men (1995)</td><td>Comedy|Romance</td><td>Romance</td></tr><tr><td>4</td><td>Waiting to Exhale (1995)</td><td>Comedy|Drama|Romance</td><td>Comedy</td></tr><tr><td>4</td><td>Waiting to Exhale (1995)</td><td>Comedy|Drama|Romance</td><td>Drama</td></tr><tr><td>4</td><td>Waiting to Exhale (1995)</td><td>Comedy|Drama|Romance</td><td>Romance</td></tr><tr><td>5</td><td>Father of the Bride Part II (1995)</td><td>Comedy</td><td>Comedy</td></tr><tr><td>6</td><td>Heat (1995)</td><td>Action|Crime|Thriller</td><td>Action</td></tr></tbody></table></div>"
      ]
     },
     "metadata": {
      "application/vnd.databricks.v1+output": {
       "addedWidgets": {},
       "aggData": [],
       "aggError": "",
       "aggOverflow": false,
       "aggSchema": [],
       "aggSeriesLimitReached": false,
       "aggType": "",
       "arguments": {},
       "columnCustomDisplayInfos": {},
       "data": [
        [
         1,
         "Toy Story (1995)",
         "Adventure|Animation|Children|Comedy|Fantasy",
         "Adventure"
        ],
        [
         1,
         "Toy Story (1995)",
         "Adventure|Animation|Children|Comedy|Fantasy",
         "Animation"
        ],
        [
         1,
         "Toy Story (1995)",
         "Adventure|Animation|Children|Comedy|Fantasy",
         "Children"
        ],
        [
         1,
         "Toy Story (1995)",
         "Adventure|Animation|Children|Comedy|Fantasy",
         "Comedy"
        ],
        [
         1,
         "Toy Story (1995)",
         "Adventure|Animation|Children|Comedy|Fantasy",
         "Fantasy"
        ],
        [
         2,
         "Jumanji (1995)",
         "Adventure|Children|Fantasy",
         "Adventure"
        ],
        [
         2,
         "Jumanji (1995)",
         "Adventure|Children|Fantasy",
         "Children"
        ],
        [
         2,
         "Jumanji (1995)",
         "Adventure|Children|Fantasy",
         "Fantasy"
        ],
        [
         3,
         "Grumpier Old Men (1995)",
         "Comedy|Romance",
         "Comedy"
        ],
        [
         3,
         "Grumpier Old Men (1995)",
         "Comedy|Romance",
         "Romance"
        ],
        [
         4,
         "Waiting to Exhale (1995)",
         "Comedy|Drama|Romance",
         "Comedy"
        ],
        [
         4,
         "Waiting to Exhale (1995)",
         "Comedy|Drama|Romance",
         "Drama"
        ],
        [
         4,
         "Waiting to Exhale (1995)",
         "Comedy|Drama|Romance",
         "Romance"
        ],
        [
         5,
         "Father of the Bride Part II (1995)",
         "Comedy",
         "Comedy"
        ],
        [
         6,
         "Heat (1995)",
         "Action|Crime|Thriller",
         "Action"
        ]
       ],
       "datasetInfos": [],
       "dbfsResultPath": null,
       "isJsonSchema": true,
       "metadata": {},
       "overflow": false,
       "plotOptions": {
        "customPlotOptions": {},
        "displayType": "table",
        "pivotAggregation": null,
        "pivotColumns": null,
        "xColumns": null,
        "yColumns": null
       },
       "removedWidgets": [],
       "schema": [
        {
         "metadata": "{}",
         "name": "movieId",
         "type": "\"integer\""
        },
        {
         "metadata": "{}",
         "name": "title",
         "type": "\"string\""
        },
        {
         "metadata": "{}",
         "name": "genres",
         "type": "\"string\""
        },
        {
         "metadata": "{}",
         "name": "Genre",
         "type": "\"string\""
        }
       ],
       "type": "table"
      }
     },
     "output_type": "display_data"
    },
    {
     "output_type": "stream",
     "name": "stderr",
     "output_type": "stream",
     "text": [
      "<unknown>:3: SyntaxWarning: invalid escape sequence '\\|'\n"
     ]
    }
   ],
   "source": [
    "from pyspark.sql.functions import split, explode\n",
    "\n",
    "df_exploded = df.withColumn(\"Genre\", explode(split(col(\"genres\"), \"\\|\")))\n",
    "display(df_exploded.limit(15))"
   ]
  },
  {
   "cell_type": "code",
   "execution_count": 0,
   "metadata": {
    "application/vnd.databricks.v1+cell": {
     "cellMetadata": {
      "byteLimit": 2048000,
      "rowLimit": 10000
     },
     "inputWidgets": {},
     "nuid": "602251d6-519d-425c-8e60-cdf937b28acb",
     "showTitle": false,
     "tableResultSettingsMap": {},
     "title": ""
    }
   },
   "outputs": [
    {
     "output_type": "display_data",
     "data": {
      "text/html": [
       "<style scoped>\n",
       "  .table-result-container {\n",
       "    max-height: 300px;\n",
       "    overflow: auto;\n",
       "  }\n",
       "  table, th, td {\n",
       "    border: 1px solid black;\n",
       "    border-collapse: collapse;\n",
       "  }\n",
       "  th, td {\n",
       "    padding: 5px;\n",
       "  }\n",
       "  th {\n",
       "    text-align: left;\n",
       "  }\n",
       "</style><div class='table-result-container'><table class='table-result'><thead style='background-color: white'><tr><th>Genre</th><th>TotalMovies</th></tr></thead><tbody><tr><td>Adventure</td><td>5402</td></tr><tr><td>Horror</td><td>8654</td></tr><tr><td>Thriller</td><td>11823</td></tr><tr><td>Romance</td><td>10369</td></tr><tr><td>Western</td><td>1696</td></tr><tr><td>Comedy</td><td>23123</td></tr><tr><td>Fantasy</td><td>3851</td></tr><tr><td>Film-Noir</td><td>353</td></tr><tr><td>Crime</td><td>6976</td></tr><tr><td>Animation</td><td>4617</td></tr><tr><td>Mystery</td><td>4013</td></tr><tr><td>Children</td><td>4520</td></tr><tr><td>Sci-Fi</td><td>4907</td></tr><tr><td>War</td><td>2325</td></tr><tr><td>(no genres listed)</td><td>7080</td></tr><tr><td>IMAX</td><td>195</td></tr><tr><td>Documentary</td><td>9363</td></tr><tr><td>Musical</td><td>1059</td></tr><tr><td>Drama</td><td>34175</td></tr><tr><td>Action</td><td>9668</td></tr><tr><td> We're Comin' To Get Ya!\"\" (2014)\"</td><td>1</td></tr></tbody></table></div>"
      ]
     },
     "metadata": {
      "application/vnd.databricks.v1+output": {
       "addedWidgets": {},
       "aggData": [],
       "aggError": "",
       "aggOverflow": false,
       "aggSchema": [],
       "aggSeriesLimitReached": false,
       "aggType": "",
       "arguments": {},
       "columnCustomDisplayInfos": {},
       "data": [
        [
         "Adventure",
         5402
        ],
        [
         "Horror",
         8654
        ],
        [
         "Thriller",
         11823
        ],
        [
         "Romance",
         10369
        ],
        [
         "Western",
         1696
        ],
        [
         "Comedy",
         23123
        ],
        [
         "Fantasy",
         3851
        ],
        [
         "Film-Noir",
         353
        ],
        [
         "Crime",
         6976
        ],
        [
         "Animation",
         4617
        ],
        [
         "Mystery",
         4013
        ],
        [
         "Children",
         4520
        ],
        [
         "Sci-Fi",
         4907
        ],
        [
         "War",
         2325
        ],
        [
         "(no genres listed)",
         7080
        ],
        [
         "IMAX",
         195
        ],
        [
         "Documentary",
         9363
        ],
        [
         "Musical",
         1059
        ],
        [
         "Drama",
         34175
        ],
        [
         "Action",
         9668
        ],
        [
         " We're Comin' To Get Ya!\"\" (2014)\"",
         1
        ]
       ],
       "datasetInfos": [],
       "dbfsResultPath": null,
       "isJsonSchema": true,
       "metadata": {},
       "overflow": false,
       "plotOptions": {
        "customPlotOptions": {},
        "displayType": "table",
        "pivotAggregation": null,
        "pivotColumns": null,
        "xColumns": null,
        "yColumns": null
       },
       "removedWidgets": [],
       "schema": [
        {
         "metadata": "{}",
         "name": "Genre",
         "type": "\"string\""
        },
        {
         "metadata": "{}",
         "name": "TotalMovies",
         "type": "\"long\""
        }
       ],
       "type": "table"
      }
     },
     "output_type": "display_data"
    }
   ],
   "source": [
    "from pyspark.sql.functions import count\n",
    "\n",
    "df_genre_count = df_exploded.groupBy(\"Genre\").agg(count(\"movieId\").alias(\"TotalMovies\"))\n",
    "display(df_genre_count)"
   ]
  },
  {
   "cell_type": "code",
   "execution_count": 0,
   "metadata": {
    "application/vnd.databricks.v1+cell": {
     "cellMetadata": {
      "byteLimit": 2048000,
      "rowLimit": 10000
     },
     "inputWidgets": {},
     "nuid": "6f546f68-658c-4ff3-ab47-1a64f5ee1663",
     "showTitle": false,
     "tableResultSettingsMap": {
      "0": {
       "dataGridStateBlob": "{\"version\":1,\"tableState\":{\"columnPinning\":{\"left\":[\"#row_number#\"],\"right\":[]},\"columnSizing\":{},\"columnVisibility\":{}},\"settings\":{\"columns\":{}},\"syncTimestamp\":1757351436011}",
       "filterBlob": null,
       "queryPlanFiltersBlob": null,
       "tableResultIndex": 0
      }
     },
     "title": ""
    }
   },
   "outputs": [
    {
     "output_type": "display_data",
     "data": {
      "text/html": [
       "<style scoped>\n",
       "  .table-result-container {\n",
       "    max-height: 300px;\n",
       "    overflow: auto;\n",
       "  }\n",
       "  table, th, td {\n",
       "    border: 1px solid black;\n",
       "    border-collapse: collapse;\n",
       "  }\n",
       "  th, td {\n",
       "    padding: 5px;\n",
       "  }\n",
       "  th {\n",
       "    text-align: left;\n",
       "  }\n",
       "</style><div class='table-result-container'><table class='table-result'><thead style='background-color: white'><tr><th>title</th></tr></thead><tbody><tr><td>Toy Story (1995)</td></tr><tr><td>Grumpier Old Men (1995)</td></tr><tr><td>Waiting to Exhale (1995)</td></tr><tr><td>Father of the Bride Part II (1995)</td></tr><tr><td>Sabrina (1995)</td></tr><tr><td>American President, The (1995)</td></tr><tr><td>Dracula: Dead and Loving It (1995)</td></tr><tr><td>Four Rooms (1995)</td></tr><tr><td>Ace Ventura: When Nature Calls (1995)</td></tr><tr><td>Money Train (1995)</td></tr><tr><td>Get Shorty (1995)</td></tr><tr><td>It Takes Two (1995)</td></tr><tr><td>Clueless (1995)</td></tr><tr><td>To Die For (1995)</td></tr><tr><td>Mighty Aphrodite (1995)</td></tr><tr><td>Big Green, The (1995)</td></tr><tr><td>Kids of the Round Table (1995)</td></tr><tr><td>Postman, The (Postino, Il) (1994)</td></tr><tr><td>Don't Be a Menace to South Central While Drinking Your Juice in the Hood (1996)</td></tr><tr><td>Two if by Sea (1996)</td></tr></tbody></table></div>"
      ]
     },
     "metadata": {
      "application/vnd.databricks.v1+output": {
       "addedWidgets": {},
       "aggData": [],
       "aggError": "",
       "aggOverflow": false,
       "aggSchema": [],
       "aggSeriesLimitReached": false,
       "aggType": "",
       "arguments": {},
       "columnCustomDisplayInfos": {},
       "data": [
        [
         "Toy Story (1995)"
        ],
        [
         "Grumpier Old Men (1995)"
        ],
        [
         "Waiting to Exhale (1995)"
        ],
        [
         "Father of the Bride Part II (1995)"
        ],
        [
         "Sabrina (1995)"
        ],
        [
         "American President, The (1995)"
        ],
        [
         "Dracula: Dead and Loving It (1995)"
        ],
        [
         "Four Rooms (1995)"
        ],
        [
         "Ace Ventura: When Nature Calls (1995)"
        ],
        [
         "Money Train (1995)"
        ],
        [
         "Get Shorty (1995)"
        ],
        [
         "It Takes Two (1995)"
        ],
        [
         "Clueless (1995)"
        ],
        [
         "To Die For (1995)"
        ],
        [
         "Mighty Aphrodite (1995)"
        ],
        [
         "Big Green, The (1995)"
        ],
        [
         "Kids of the Round Table (1995)"
        ],
        [
         "Postman, The (Postino, Il) (1994)"
        ],
        [
         "Don't Be a Menace to South Central While Drinking Your Juice in the Hood (1996)"
        ],
        [
         "Two if by Sea (1996)"
        ]
       ],
       "datasetInfos": [],
       "dbfsResultPath": null,
       "isJsonSchema": true,
       "metadata": {},
       "overflow": false,
       "plotOptions": {
        "customPlotOptions": {},
        "displayType": "table",
        "pivotAggregation": null,
        "pivotColumns": null,
        "xColumns": null,
        "yColumns": null
       },
       "removedWidgets": [],
       "schema": [
        {
         "metadata": "{}",
         "name": "title",
         "type": "\"string\""
        }
       ],
       "type": "table"
      }
     },
     "output_type": "display_data"
    }
   ],
   "source": [
    "df_num = df_exploded.select(\"title\").where(\"Genre = 'Comedy'\")\n",
    "display(df_num.limit(20))\n"
   ]
  },
  {
   "cell_type": "code",
   "execution_count": 0,
   "metadata": {
    "application/vnd.databricks.v1+cell": {
     "cellMetadata": {
      "byteLimit": 2048000,
      "rowLimit": 10000
     },
     "inputWidgets": {},
     "nuid": "a39b58dd-be08-492e-948a-0180397ca49f",
     "showTitle": false,
     "tableResultSettingsMap": {},
     "title": ""
    }
   },
   "outputs": [],
   "source": [
    "\n",
    "df_genre_count.write.format(\"delta\").mode(\"overwrite\").saveAsTable(\"movies_genre_Count\")\n"
   ]
  },
  {
   "cell_type": "code",
   "execution_count": 0,
   "metadata": {
    "application/vnd.databricks.v1+cell": {
     "cellMetadata": {
      "byteLimit": 2048000,
      "rowLimit": 10000
     },
     "inputWidgets": {},
     "nuid": "dca86f03-4194-4ba6-8e5d-e2ccf36ad846",
     "showTitle": false,
     "tableResultSettingsMap": {},
     "title": ""
    }
   },
   "outputs": [],
   "source": []
  },
  {
   "cell_type": "code",
   "execution_count": 0,
   "metadata": {
    "application/vnd.databricks.v1+cell": {
     "cellMetadata": {
      "byteLimit": 2048000,
      "rowLimit": 10000
     },
     "inputWidgets": {},
     "nuid": "3186bd92-8a3f-4e24-8bf5-cf0c4218d138",
     "showTitle": false,
     "tableResultSettingsMap": {},
     "title": ""
    }
   },
   "outputs": [],
   "source": [
    "df_genre_count.write.mode(\"overwrite\").format(\"csv\").save(\"/Volumes/workspace/default/ordder/movies_by_Genre.csv\")\n"
   ]
  }
 ],
 "metadata": {
  "application/vnd.databricks.v1+notebook": {
   "computePreferences": null,
   "dashboards": [],
   "environmentMetadata": {
    "base_environment": "",
    "environment_version": "3"
   },
   "inputWidgetPreferences": null,
   "language": "python",
   "notebookMetadata": {
    "pythonIndentUnit": 4
   },
   "notebookName": "Genre_Based_movies",
   "widgets": {}
  },
  "language_info": {
   "name": "python"
  }
 },
 "nbformat": 4,
 "nbformat_minor": 0
}
